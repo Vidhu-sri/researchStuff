{
 "cells": [
  {
   "cell_type": "code",
   "execution_count": 4,
   "metadata": {},
   "outputs": [
    {
     "name": "stdout",
     "output_type": "stream",
     "text": [
      "8\n"
     ]
    }
   ],
   "source": [
    "#knapsack recursive\n",
    "\n",
    "p = [1,2,5,6]\n",
    "w = [2,3,4,5]\n",
    "c = 8\n",
    "\n",
    "memo  = {}\n",
    "def f(c,n):\n",
    "    if not c or not n:\n",
    "        return 0 \n",
    "    if (c,n) in memo:\n",
    "        return memo[(c,n)]    \n",
    "    memo[(c,n)] =  max(p[n-1]+f(c-w[n-1],n-1), f(c,n-1)) if w[n-1]<=c else f(c,n-1)\n",
    "    return memo[(c,n)]\n",
    "print(f(c,4))\n"
   ]
  },
  {
   "cell_type": "markdown",
   "metadata": {},
   "source": [
    "if you notice, in the code in each recursive call only n,c are changing \n",
    "so it can be tabulized in 2 dimensions"
   ]
  },
  {
   "cell_type": "code",
   "execution_count": null,
   "metadata": {},
   "outputs": [],
   "source": []
  }
 ],
 "metadata": {
  "kernelspec": {
   "display_name": "venv",
   "language": "python",
   "name": "python3"
  },
  "language_info": {
   "codemirror_mode": {
    "name": "ipython",
    "version": 3
   },
   "file_extension": ".py",
   "mimetype": "text/x-python",
   "name": "python",
   "nbconvert_exporter": "python",
   "pygments_lexer": "ipython3",
   "version": "3.11.4"
  }
 },
 "nbformat": 4,
 "nbformat_minor": 2
}
